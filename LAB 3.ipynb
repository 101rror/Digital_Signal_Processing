{
 "cells": [
  {
   "cell_type": "code",
   "execution_count": 1,
   "id": "10705542",
   "metadata": {},
   "outputs": [],
   "source": [
    "import numpy as np\n",
    "import matplotlib.pyplot as plt"
   ]
  },
  {
   "cell_type": "code",
   "execution_count": 2,
   "id": "9bad33f5",
   "metadata": {},
   "outputs": [
    {
     "name": "stdout",
     "output_type": "stream",
     "text": [
      "Enter the amount to be Delay : 10\n",
      "Enter the Lower Boundary of the first Sequence : -1\n",
      "Enter the Upper Boundary of the first Sequence : 2\n"
     ]
    }
   ],
   "source": [
    "delay = int(input(\"Enter the amount to be Delay : \"))\n",
    "lowerbound = int(input(\"Enter the Lower Boundary of the first Sequence : \"))\n",
    "upperbound = int(input(\"Enter the Upper Boundary of the first Sequence : \"))"
   ]
  },
  {
   "cell_type": "code",
   "execution_count": 3,
   "id": "4f0505dd",
   "metadata": {},
   "outputs": [
    {
     "name": "stdout",
     "output_type": "stream",
     "text": [
      "Enter the Sequence (separated by spaces) : 1 2 3 1\n"
     ]
    }
   ],
   "source": [
    "n = np.arange(lowerbound, upperbound + 1)\n",
    "seq = np.array(input(\"Enter the Sequence (separated by spaces) : \").split(), dtype=float)"
   ]
  },
  {
   "cell_type": "code",
   "execution_count": 4,
   "id": "fc18425e",
   "metadata": {},
   "outputs": [],
   "source": [
    "x_flip = np.flip(seq)\n",
    "y_flip = -np.flip(n)"
   ]
  },
  {
   "cell_type": "code",
   "execution_count": 5,
   "id": "5f69316c",
   "metadata": {},
   "outputs": [],
   "source": [
    "m_first = n + delay\n",
    "y_first = x_flip"
   ]
  },
  {
   "cell_type": "code",
   "execution_count": 6,
   "id": "8cfdaccc",
   "metadata": {},
   "outputs": [
    {
     "data": {
      "text/plain": [
       "Text(0.5, 1.0, 'TD{FD(x(n))}')"
      ]
     },
     "execution_count": 6,
     "metadata": {},
     "output_type": "execute_result"
    },
    {
     "data": {
      "image/png": "[encoded data removed]",
      "text/plain": [
       "<Figure size 640x480 with 1 Axes>"
      ]
     },
     "metadata": {},
     "output_type": "display_data"
    }
   ],
   "source": [
    "plt.subplot(2, 1, 1)\n",
    "plt.stem(m_first, y_first)\n",
    "plt.title('TD{FD(x(n))}')"
   ]
  },
  {
   "cell_type": "code",
   "execution_count": 7,
   "id": "727ba47f",
   "metadata": {},
   "outputs": [],
   "source": [
    "m_sec = n + delay\n",
    "y_sec = seq"
   ]
  },
  {
   "cell_type": "code",
   "execution_count": 8,
   "id": "911de725",
   "metadata": {},
   "outputs": [],
   "source": [
    "m_sec_flip = np.flip(m_sec)\n",
    "y_sec_flip = -np.flip(y_sec)"
   ]
  },
  {
   "cell_type": "code",
   "execution_count": 9,
   "id": "b9466d84",
   "metadata": {},
   "outputs": [
    {
     "data": {
      "text/plain": [
       "Text(0.5, 1.0, 'FD{TD(x(n))}')"
      ]
     },
     "execution_count": 9,
     "metadata": {},
     "output_type": "execute_result"
    },
    {
     "data": {
      "image/png": "[encoded data removed]",
      "text/plain": [
       "<Figure size 640x480 with 1 Axes>"
      ]
     },
     "metadata": {},
     "output_type": "display_data"
    }
   ],
   "source": [
    "plt.subplot(2, 1, 2)\n",
    "plt.stem(m_sec_flip, y_sec_flip)\n",
    "plt.title('FD{TD(x(n))}')"
   ]
  }
 ],
 "metadata": {
  "kernelspec": {
   "display_name": "Python 3 (ipykernel)",
   "language": "python",
   "name": "python3"
  },
  "language_info": {
   "codemirror_mode": {
    "name": "ipython",
    "version": 3
   },
   "file_extension": ".py",
   "mimetype": "text/x-python",
   "name": "python",
   "nbconvert_exporter": "python",
   "pygments_lexer": "ipython3",
   "version": "3.10.9"
  }
 },
 "nbformat": 4,
 "nbformat_minor": 5
}
